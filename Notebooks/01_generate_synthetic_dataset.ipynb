{
 "cells": [
  {
   "cell_type": "code",
   "execution_count": 2,
   "metadata": {},
   "outputs": [],
   "source": [
    "import os\n",
    "import inspect \n",
    "import sys \n",
    "import shutil\n",
    "\n",
    "import numpy as np\n",
    "import matplotlib.pyplot as plt\n",
    "import pandas as pd\n",
    "import datetime as dt \n",
    "\n",
    "currentdir = os.path.dirname(os.path.abspath(inspect.getfile(inspect.currentframe())))\n",
    "parentdir = os.path.dirname(currentdir)\n",
    "sys.path.insert(0, parentdir) \n",
    "\n",
    "from Modules import utils"
   ]
  },
  {
   "cell_type": "markdown",
   "metadata": {},
   "source": [
    "__SINGLE SYNTHETIC TIME-SERIES WITH COUPLING FACTOR 0.1__"
   ]
  },
  {
   "cell_type": "code",
   "execution_count": 3,
   "metadata": {},
   "outputs": [],
   "source": [
    "length = 300\n",
    "c = 0.1\n",
    "data = utils.gen_synthetic_data(length, c)\n",
    "\n",
    "index_temp = pd.date_range(dt.date(2015,1,1), periods = length, freq = '7D')\n",
    "data.index = index_temp\n",
    "data.to_csv('../Input_Data/data_c01.csv')"
   ]
  },
  {
   "cell_type": "markdown",
   "metadata": {},
   "source": [
    "__SINGLE SYNTHETIC TIME-SERIES WITH COUPLING FACTOR 1__"
   ]
  },
  {
   "cell_type": "code",
   "execution_count": 4,
   "metadata": {},
   "outputs": [],
   "source": [
    "length = 300\n",
    "c = 1\n",
    "\n",
    "data = utils.gen_synthetic_data(length, c)\n",
    "\n",
    "index_temp = pd.date_range(dt.date(2015,1,1), periods = length, freq = '7D')\n",
    "data.index = index_temp\n",
    "data.to_csv('../Input_Data/data_c1.csv')"
   ]
  },
  {
   "cell_type": "markdown",
   "metadata": {},
   "source": [
    "__DATAFRAME OF COLLECTION OF SYNTHETIC TIME-SERIES WITH COUPLING FACTOR 0.1__ "
   ]
  },
  {
   "cell_type": "code",
   "execution_count": 5,
   "metadata": {},
   "outputs": [],
   "source": [
    "Zones = [\"zone1\", \"zone2\", \"zone3\"]\n",
    "\n",
    "#coupling coefficient\n",
    "c = 0.1 \n",
    "#lenght of generated dataframe\n",
    "Length = 300\n",
    "\n",
    "df_zone = []\n",
    "\n",
    "for zone in Zones:\n",
    "    \n",
    "    data = utils.gen_synthetic_data(length = Length, c = c)   \n",
    "    index_temp = pd.date_range(dt.date(2015,1,1), periods = Length, freq = '7D')\n",
    "    data.index = index_temp\n",
    "    data[\"zone\"] = zone\n",
    "    \n",
    "    df_zone.append(data)\n",
    "    \n",
    "df_zone = pd.concat(df_zone, axis=0)\n",
    "df_zone.head()\n",
    "\n",
    "df_zone.to_csv('../Input_Data/data_multi_c01.csv')"
   ]
  },
  {
   "cell_type": "markdown",
   "metadata": {},
   "source": [
    "__DATAFRAME OF COLLECTION OF SYNTHETIC TIME-SERIES WITH COUPLING FACTOR 1__ "
   ]
  },
  {
   "cell_type": "code",
   "execution_count": 6,
   "metadata": {},
   "outputs": [],
   "source": [
    "Zones = [\"zone1\", \"zone2\", \"zone3\"]\n",
    "\n",
    "#coupling coefficient\n",
    "c = 1 \n",
    "#lenght of generated dataframe \n",
    "Length = 300\n",
    "\n",
    "df_zone = []\n",
    "\n",
    "for zone in Zones:\n",
    "    \n",
    "    data = utils.gen_synthetic_data(length = Length, c = c)   \n",
    "    index_temp = pd.date_range(dt.date(2015,1,1), periods = Length, freq = '7D')\n",
    "    data.index = index_temp\n",
    "    data[\"zone\"] = zone\n",
    "    \n",
    "    df_zone.append(data)\n",
    "    \n",
    "df_zone = pd.concat(df_zone, axis=0)\n",
    "df_zone.head()\n",
    "\n",
    "df_zone.to_csv('../Input_Data/data_multi_c1.csv')"
   ]
  }
 ],
 "metadata": {
  "kernelspec": {
   "display_name": "Python 3",
   "language": "python",
   "name": "python3"
  },
  "language_info": {
   "codemirror_mode": {
    "name": "ipython",
    "version": 3
   },
   "file_extension": ".py",
   "mimetype": "text/x-python",
   "name": "python",
   "nbconvert_exporter": "python",
   "pygments_lexer": "ipython3",
   "version": "3.8.10"
  }
 },
 "nbformat": 4,
 "nbformat_minor": 4
}
