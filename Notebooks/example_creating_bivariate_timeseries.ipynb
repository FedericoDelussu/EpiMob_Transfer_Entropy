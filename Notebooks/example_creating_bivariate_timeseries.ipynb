{
 "cells": [
  {
   "cell_type": "code",
   "execution_count": null,
   "metadata": {},
   "outputs": [],
   "source": [
    "import pandas as pd\n",
    "import numpy as np"
   ]
  },
  {
   "cell_type": "code",
   "execution_count": null,
   "metadata": {},
   "outputs": [],
   "source": [
    "ts_mcr = pd.read_csv(\"../Input_Data/ts_mob_covid_daily_residential.csv\",index_col = 0)\n",
    "ts_mcr.head(2)"
   ]
  },
  {
   "cell_type": "code",
   "execution_count": null,
   "metadata": {},
   "outputs": [],
   "source": [
    "C = 'Austria'\n",
    "x = 'cases'\n",
    "y = 'residential'\n",
    " \n",
    "time_series_name = C + \"_\" + x + \"_\" + y + \".csv\"\n",
    "\n",
    "df_xy = ts_mcr[ ts_mcr.Country == C][[\"prov\",x,y]]\n",
    "df_xy.columns = ['zone', 'x', 'y']\n",
    "df_xy.to_csv(\"../Input_Data/Data_bivariate_time_series/\" + time_series_name)\n",
    "df_xy.head()"
   ]
  },
  {
   "cell_type": "code",
   "execution_count": null,
   "metadata": {},
   "outputs": [],
   "source": [
    "df_xy.isna().any(axis=0)"
   ]
  },
  {
   "cell_type": "code",
   "execution_count": null,
   "metadata": {},
   "outputs": [],
   "source": [
    "df_results = pd.read_csv('../Output_Experiments/Results/df_Austria_cases_residential.csv',index_col = 0)\n",
    "df_results.head()"
   ]
  },
  {
   "cell_type": "code",
   "execution_count": null,
   "metadata": {},
   "outputs": [],
   "source": []
  }
 ],
 "metadata": {
  "kernelspec": {
   "display_name": "Python 3",
   "language": "python",
   "name": "python3"
  },
  "language_info": {
   "codemirror_mode": {
    "name": "ipython",
    "version": 3
   },
   "file_extension": ".py",
   "mimetype": "text/x-python",
   "name": "python",
   "nbconvert_exporter": "python",
   "pygments_lexer": "ipython3",
   "version": "3.8.10"
  }
 },
 "nbformat": 4,
 "nbformat_minor": 4
}
