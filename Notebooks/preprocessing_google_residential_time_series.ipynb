{
 "cells": [
  {
   "cell_type": "code",
   "execution_count": 1,
   "metadata": {
    "code_folding": [
     5
    ]
   },
   "outputs": [],
   "source": [
    "import numpy as np\n",
    "import pandas as pd\n",
    "import plotly.express as px\n",
    "\n",
    "#path = \"../Input_Data/Region_Mobility_Report_CSVs/2020_IT_Region_Mobility_Report.csv\"\n",
    "#subsetting a dataframe according to its unique feature values\n",
    "def subset_df_feature(df, \n",
    "                      feature):\n",
    "    \"\"\"\n",
    "    df: input dataframe\n",
    "    feature: feature of df for which unique values are computed\n",
    "    \n",
    "    return DICT_df_feature \n",
    "\n",
    "    > DICT_df_feature is a dictionary which assigns each unique feature value to the portion of the dataframe having that feature value\n",
    "    \"\"\"\n",
    "    \n",
    "    feature_values = df[feature].unique()\n",
    "    \n",
    "    DICT_df_feature = {f: df[df[feature] == f] for f in feature_values}\n",
    "    \n",
    "    return DICT_df_feature\n",
    "\n",
    "def compare_sets(a,b):\n",
    "    \n",
    "    ab_common = np.intersect1d(a,b)\n",
    "    a_diff_b  = np.setdiff1d(a,b)\n",
    "    b_diff_a  = np.setdiff1d(b,a)\n",
    "    \n",
    "    DICT_comp = {'ab_common' : ab_common,\n",
    "                 'a_diff_b' : a_diff_b, \n",
    "                 'b_diff_a' : b_diff_a}\n",
    "    return DICT_comp"
   ]
  },
  {
   "cell_type": "code",
   "execution_count": 8,
   "metadata": {},
   "outputs": [],
   "source": [
    "df_mer = pd.read_csv('../Input_Data/ts_mob_covid_daily_residential.csv', index_col = 0)\n",
    "\n",
    "#Consider only Spain and France\n",
    "df_mer = df_mer[ df_mer.Country != 'Austria' ]\n",
    "\n",
    "#Remove Lozere province \n",
    "prov = 'Lozère'\n",
    "df_mer = df_mer[ df_mer['prov'] != prov]\n",
    "\n",
    "#subset dataset by province time-series\n",
    "DICT_prov = subset_df_feature(df_mer, 'prov')\n",
    "Provs = list(DICT_prov.keys())\n",
    "\n",
    "\n",
    "df_mer_new = []\n",
    "\n",
    "for p in Provs: \n",
    "    \n",
    "    #select time-series of single province \n",
    "    ts_p = DICT_prov[p]    \n",
    "    #perform linear interpolation on residential time-series\n",
    "    ts_p = ts_p.interpolate()\n",
    "    \n",
    "    df_mer_new.append(ts_p)\n",
    "    \n",
    "df_mer_new = pd.concat(df_mer_new, axis=0)\n",
    "\n",
    "path_new = '../Input_Data/ts_mob_covid_daily_residential_interpolated.csv'\n",
    "df_mer_new.to_csv(path_new)"
   ]
  },
  {
   "cell_type": "code",
   "execution_count": null,
   "metadata": {},
   "outputs": [],
   "source": []
  }
 ],
 "metadata": {
  "kernelspec": {
   "display_name": "Python 3",
   "language": "python",
   "name": "python3"
  },
  "language_info": {
   "codemirror_mode": {
    "name": "ipython",
    "version": 3
   },
   "file_extension": ".py",
   "mimetype": "text/x-python",
   "name": "python",
   "nbconvert_exporter": "python",
   "pygments_lexer": "ipython3",
   "version": "3.8.10"
  }
 },
 "nbformat": 4,
 "nbformat_minor": 5
}
